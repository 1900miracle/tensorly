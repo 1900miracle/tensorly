{
 "cells": [
  {
   "cell_type": "code",
   "execution_count": 37,
   "metadata": {},
   "outputs": [
    {
     "name": "stderr",
     "output_type": "stream",
     "text": [
      "100%|██████████| 50/50 [00:37<00:00,  1.34it/s]\n"
     ]
    }
   ],
   "source": [
    "import tensorly as tl\n",
    "from time import time\n",
    "from tensorly.decomposition import parafac\n",
    "from tensorly.random import check_random_state\n",
    "import numpy as np\n",
    "from tqdm import tqdm\n",
    "\n",
    "tol = np.logspace(-3, -9)\n",
    "err = np.empty_like(tol)\n",
    "err_ls = np.empty_like(tol)\n",
    "tt = np.empty_like(tol)\n",
    "tt_ls = np.empty_like(tol)\n",
    "rng = check_random_state(1234)\n",
    "tensor = tl.tensor(rng.random_sample((100, 20, 20)))\n",
    "\n",
    "fac = parafac(tensor, rank=7, n_iter_max=2000000, tol=1.0e-12, orthogonalise=True, linesearch=True)\n",
    "err_min = tl.norm(tl.kruskal_to_tensor(fac) - tensor)\n",
    "\n",
    "for ii, toll in tqdm(enumerate(tol), total=len(tol)):\n",
    "    start = time()\n",
    "    fac = parafac(tensor, rank=7, n_iter_max=2000000, tol=toll, orthogonalise=True)\n",
    "    tt[ii] = time() - start\n",
    "    start = time()\n",
    "    fac_ls = parafac(tensor, rank=7, n_iter_max=2000000, tol=toll, orthogonalise=True, linesearch=True)\n",
    "    tt_ls[ii] = time() - start\n",
    "    \n",
    "    err[ii] = tl.norm(tl.kruskal_to_tensor(fac) - tensor)\n",
    "    err_ls[ii] = tl.norm(tl.kruskal_to_tensor(fac_ls) - tensor)\n"
   ]
  },
  {
   "cell_type": "code",
   "execution_count": 38,
   "metadata": {},
   "outputs": [
    {
     "data": {
      "image/png": "[encoded data removed]",
      "text/plain": [
       "<Figure size 432x288 with 1 Axes>"
      ]
     },
     "metadata": {
      "needs_background": "light"
     },
     "output_type": "display_data"
    }
   ],
   "source": [
    "import matplotlib.pyplot as plt\n",
    "\n",
    "plt.loglog(tt, err - err_min, '.', label=\"No line search\");\n",
    "plt.loglog(tt_ls, err_ls - err_min, '.r', label=\"Line search\");\n",
    "plt.ylabel(\"Time\");\n",
    "plt.xlabel(\"Error\");\n",
    "plt.legend();"
   ]
  },
  {
   "cell_type": "code",
   "execution_count": null,
   "metadata": {},
   "outputs": [],
   "source": []
  }
 ],
 "metadata": {
  "kernelspec": {
   "display_name": "Python 3",
   "language": "python",
   "name": "python3"
  },
  "language_info": {
   "codemirror_mode": {
    "name": "ipython",
    "version": 3
   },
   "file_extension": ".py",
   "mimetype": "text/x-python",
   "name": "python",
   "nbconvert_exporter": "python",
   "pygments_lexer": "ipython3",
   "version": "3.8.3"
  }
 },
 "nbformat": 4,
 "nbformat_minor": 4
}
